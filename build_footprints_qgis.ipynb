{
 "cells": [
  {
   "cell_type": "code",
   "execution_count": 5,
   "metadata": {},
   "outputs": [],
   "source": [
    "import pandas as pd \n",
    "import numpy as np \n",
    "import geopandas as gpd "
   ]
  },
  {
   "cell_type": "code",
   "execution_count": 6,
   "metadata": {},
   "outputs": [
    {
     "data": {
      "text/html": [
       "<div>\n",
       "<style scoped>\n",
       "    .dataframe tbody tr th:only-of-type {\n",
       "        vertical-align: middle;\n",
       "    }\n",
       "\n",
       "    .dataframe tbody tr th {\n",
       "        vertical-align: top;\n",
       "    }\n",
       "\n",
       "    .dataframe thead th {\n",
       "        text-align: right;\n",
       "    }\n",
       "</style>\n",
       "<table border=\"1\" class=\"dataframe\">\n",
       "  <thead>\n",
       "    <tr style=\"text-align: right;\">\n",
       "      <th></th>\n",
       "      <th>latitude</th>\n",
       "      <th>longitude</th>\n",
       "      <th>area_in_meters</th>\n",
       "      <th>confidence</th>\n",
       "      <th>geometry</th>\n",
       "      <th>full_plus_code</th>\n",
       "    </tr>\n",
       "  </thead>\n",
       "  <tbody>\n",
       "    <tr>\n",
       "      <th>0</th>\n",
       "      <td>-5.098340</td>\n",
       "      <td>-81.107018</td>\n",
       "      <td>61.4424</td>\n",
       "      <td>0.8552</td>\n",
       "      <td>POLYGON((-81.1069700800426 -5.09836031580208, ...</td>\n",
       "      <td>666WWV2V+M59F</td>\n",
       "    </tr>\n",
       "    <tr>\n",
       "      <th>1</th>\n",
       "      <td>-5.098161</td>\n",
       "      <td>-81.091534</td>\n",
       "      <td>64.5411</td>\n",
       "      <td>0.8047</td>\n",
       "      <td>POLYGON((-81.0915062190177 -5.09812557689541, ...</td>\n",
       "      <td>666WWW25+P9PH</td>\n",
       "    </tr>\n",
       "    <tr>\n",
       "      <th>2</th>\n",
       "      <td>-5.100557</td>\n",
       "      <td>-81.088574</td>\n",
       "      <td>183.0240</td>\n",
       "      <td>0.9068</td>\n",
       "      <td>POLYGON((-81.0884727122659 -5.10057166141754, ...</td>\n",
       "      <td>666WVWX6+QHFP</td>\n",
       "    </tr>\n",
       "    <tr>\n",
       "      <th>3</th>\n",
       "      <td>-5.822866</td>\n",
       "      <td>-81.035102</td>\n",
       "      <td>105.2900</td>\n",
       "      <td>0.8558</td>\n",
       "      <td>POLYGON((-81.0350368115731 -5.82283307572124, ...</td>\n",
       "      <td>666W5XG7+VX28</td>\n",
       "    </tr>\n",
       "    <tr>\n",
       "      <th>4</th>\n",
       "      <td>-5.003297</td>\n",
       "      <td>-81.058916</td>\n",
       "      <td>26.8723</td>\n",
       "      <td>0.8792</td>\n",
       "      <td>POLYGON((-81.0588911465432 -5.00331974579192, ...</td>\n",
       "      <td>666WXWWR+MCP4</td>\n",
       "    </tr>\n",
       "  </tbody>\n",
       "</table>\n",
       "</div>"
      ],
      "text/plain": [
       "   latitude  longitude  area_in_meters  confidence  \\\n",
       "0 -5.098340 -81.107018         61.4424      0.8552   \n",
       "1 -5.098161 -81.091534         64.5411      0.8047   \n",
       "2 -5.100557 -81.088574        183.0240      0.9068   \n",
       "3 -5.822866 -81.035102        105.2900      0.8558   \n",
       "4 -5.003297 -81.058916         26.8723      0.8792   \n",
       "\n",
       "                                            geometry full_plus_code  \n",
       "0  POLYGON((-81.1069700800426 -5.09836031580208, ...  666WWV2V+M59F  \n",
       "1  POLYGON((-81.0915062190177 -5.09812557689541, ...  666WWW25+P9PH  \n",
       "2  POLYGON((-81.0884727122659 -5.10057166141754, ...  666WVWX6+QHFP  \n",
       "3  POLYGON((-81.0350368115731 -5.82283307572124, ...  666W5XG7+VX28  \n",
       "4  POLYGON((-81.0588911465432 -5.00331974579192, ...  666WXWWR+MCP4  "
      ]
     },
     "execution_count": 6,
     "metadata": {},
     "output_type": "execute_result"
    }
   ],
   "source": [
    "df = pd.read_csv(r\"D:\\OLIMPO\\GEOKEY\\PROY\\OpenBuildingsG\\open_buildings_v3_polygons_ne_10m_PER\\open_buildings_v3_polygons_ne_10m_PER.csv\")\n",
    "df.head()"
   ]
  },
  {
   "cell_type": "code",
   "execution_count": 7,
   "metadata": {},
   "outputs": [
    {
     "data": {
      "text/html": [
       "<div>\n",
       "<style scoped>\n",
       "    .dataframe tbody tr th:only-of-type {\n",
       "        vertical-align: middle;\n",
       "    }\n",
       "\n",
       "    .dataframe tbody tr th {\n",
       "        vertical-align: top;\n",
       "    }\n",
       "\n",
       "    .dataframe thead th {\n",
       "        text-align: right;\n",
       "    }\n",
       "</style>\n",
       "<table border=\"1\" class=\"dataframe\">\n",
       "  <thead>\n",
       "    <tr style=\"text-align: right;\">\n",
       "      <th></th>\n",
       "      <th>latitude</th>\n",
       "      <th>longitude</th>\n",
       "      <th>area_in_meters</th>\n",
       "      <th>confidence</th>\n",
       "      <th>geometry</th>\n",
       "      <th>full_plus_code</th>\n",
       "    </tr>\n",
       "  </thead>\n",
       "  <tbody>\n",
       "    <tr>\n",
       "      <th>0</th>\n",
       "      <td>-5.098340</td>\n",
       "      <td>-81.107018</td>\n",
       "      <td>61.4424</td>\n",
       "      <td>0.8552</td>\n",
       "      <td>POLYGON ((-81.10697 -5.09836, -81.10702 -5.098...</td>\n",
       "      <td>666WWV2V+M59F</td>\n",
       "    </tr>\n",
       "    <tr>\n",
       "      <th>1</th>\n",
       "      <td>-5.098161</td>\n",
       "      <td>-81.091534</td>\n",
       "      <td>64.5411</td>\n",
       "      <td>0.8047</td>\n",
       "      <td>POLYGON ((-81.09151 -5.09813, -81.09154 -5.098...</td>\n",
       "      <td>666WWW25+P9PH</td>\n",
       "    </tr>\n",
       "    <tr>\n",
       "      <th>2</th>\n",
       "      <td>-5.100557</td>\n",
       "      <td>-81.088574</td>\n",
       "      <td>183.0240</td>\n",
       "      <td>0.9068</td>\n",
       "      <td>POLYGON ((-81.08847 -5.10057, -81.08864 -5.100...</td>\n",
       "      <td>666WVWX6+QHFP</td>\n",
       "    </tr>\n",
       "    <tr>\n",
       "      <th>3</th>\n",
       "      <td>-5.822866</td>\n",
       "      <td>-81.035102</td>\n",
       "      <td>105.2900</td>\n",
       "      <td>0.8558</td>\n",
       "      <td>POLYGON ((-81.03504 -5.82283, -81.03509 -5.822...</td>\n",
       "      <td>666W5XG7+VX28</td>\n",
       "    </tr>\n",
       "    <tr>\n",
       "      <th>4</th>\n",
       "      <td>-5.003297</td>\n",
       "      <td>-81.058916</td>\n",
       "      <td>26.8723</td>\n",
       "      <td>0.8792</td>\n",
       "      <td>POLYGON ((-81.05889 -5.00332, -81.05890 -5.003...</td>\n",
       "      <td>666WXWWR+MCP4</td>\n",
       "    </tr>\n",
       "  </tbody>\n",
       "</table>\n",
       "</div>"
      ],
      "text/plain": [
       "   latitude  longitude  area_in_meters  confidence  \\\n",
       "0 -5.098340 -81.107018         61.4424      0.8552   \n",
       "1 -5.098161 -81.091534         64.5411      0.8047   \n",
       "2 -5.100557 -81.088574        183.0240      0.9068   \n",
       "3 -5.822866 -81.035102        105.2900      0.8558   \n",
       "4 -5.003297 -81.058916         26.8723      0.8792   \n",
       "\n",
       "                                            geometry full_plus_code  \n",
       "0  POLYGON ((-81.10697 -5.09836, -81.10702 -5.098...  666WWV2V+M59F  \n",
       "1  POLYGON ((-81.09151 -5.09813, -81.09154 -5.098...  666WWW25+P9PH  \n",
       "2  POLYGON ((-81.08847 -5.10057, -81.08864 -5.100...  666WVWX6+QHFP  \n",
       "3  POLYGON ((-81.03504 -5.82283, -81.03509 -5.822...  666W5XG7+VX28  \n",
       "4  POLYGON ((-81.05889 -5.00332, -81.05890 -5.003...  666WXWWR+MCP4  "
      ]
     },
     "execution_count": 7,
     "metadata": {},
     "output_type": "execute_result"
    }
   ],
   "source": [
    "df['geometry'] = gpd.GeoSeries.from_wkt(df['geometry'])\n",
    "gdf = gpd.GeoDataFrame(df, geometry='geometry')\n",
    "gdf.head()"
   ]
  },
  {
   "cell_type": "code",
   "execution_count": 8,
   "metadata": {},
   "outputs": [
    {
     "name": "stderr",
     "output_type": "stream",
     "text": [
      "C:\\Users\\user\\AppData\\Local\\Temp\\ipykernel_13084\\2633824105.py:1: UserWarning: Column names longer than 10 characters will be truncated when saved to ESRI Shapefile.\n",
      "  gdf.to_file(r\"D:\\OLIMPO\\GEOKEY\\PROY\\OpenBuildingsG\\open_buildings_v3_polygons_ne_10m_PER\\op_b_v3_10_pes.shp\")\n"
     ]
    }
   ],
   "source": [
    "gdf.to_file(r\"D:\\OLIMPO\\GEOKEY\\PROY\\OpenBuildingsG\\open_buildings_v3_polygons_ne_10m_PER\\op_b_v3_10_pes.shp\")"
   ]
  }
 ],
 "metadata": {
  "kernelspec": {
   "display_name": "Python 3",
   "language": "python",
   "name": "python3"
  },
  "language_info": {
   "codemirror_mode": {
    "name": "ipython",
    "version": 3
   },
   "file_extension": ".py",
   "mimetype": "text/x-python",
   "name": "python",
   "nbconvert_exporter": "python",
   "pygments_lexer": "ipython3",
   "version": "3.11.4"
  }
 },
 "nbformat": 4,
 "nbformat_minor": 2
}
